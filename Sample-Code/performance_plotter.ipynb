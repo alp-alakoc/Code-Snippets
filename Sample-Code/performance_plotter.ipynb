{
 "cells": [
  {
   "cell_type": "code",
   "execution_count": 1,
   "metadata": {
    "slideshow": {
     "slide_type": "skip"
    }
   },
   "outputs": [],
   "source": [
    "import pandas as pd\n",
    "import numpy as np\n",
    "import datetime\n",
    "import plotly as py\n",
    "import plotly.graph_objs as go\n",
    "import ipywidgets as widgets"
   ]
  },
  {
   "cell_type": "code",
   "execution_count": 2,
   "metadata": {
    "slideshow": {
     "slide_type": "skip"
    }
   },
   "outputs": [],
   "source": [
    "PP_AGLO = pd.read_csv(r'P_P_LSTM_aglo.csv')\n",
    "PP_KMEANS = pd.read_csv(r'P_P_LSTM_kmeans.csv')\n",
    "PP_FFF_AGLO = pd.read_csv(r'P_P_FFF_aglo.csv')\n",
    "PP_FFF_KMEANS = pd.read_csv(r'P_P_FFF_kmeans.csv')\n",
    "PP_CAPM_AGLO = pd.read_csv(r'P_P_CAPM_aglo.csv')\n",
    "PP_CAPM_KMEANS = pd.read_csv(r'P_P_CAPM_kmeans.csv')\n",
    "sp500 = pd.read_csv(r'PP_MM.csv')"
   ]
  },
  {
   "cell_type": "code",
   "execution_count": 3,
   "metadata": {
    "slideshow": {
     "slide_type": "skip"
    }
   },
   "outputs": [],
   "source": [
    "PP_AGLO = pd.DataFrame(PP_AGLO.iloc[:,1:])\n",
    "PP_KMEANS = pd.DataFrame(PP_KMEANS.iloc[:,1:])\n",
    "PP_FFF_AGLO = pd.DataFrame(PP_FFF_AGLO.iloc[:,1:])\n",
    "PP_FFF_KMEANS = pd.DataFrame(PP_FFF_KMEANS.iloc[:,1:])\n",
    "PP_CAPM_AGLO = pd.DataFrame(PP_CAPM_AGLO.iloc[:,1:])\n",
    "PP_CAPM_KMEANS = pd.DataFrame(PP_CAPM_KMEANS.iloc[:,1:])\n",
    "sp500 = pd.DataFrame(sp500.iloc[:,1:])"
   ]
  },
  {
   "cell_type": "code",
   "execution_count": 4,
   "metadata": {
    "slideshow": {
     "slide_type": "skip"
    }
   },
   "outputs": [],
   "source": [
    "performance = [PP_AGLO, PP_KMEANS, PP_FFF_AGLO, PP_FFF_KMEANS, PP_CAPM_AGLO, PP_CAPM_KMEANS]"
   ]
  },
  {
   "cell_type": "code",
   "execution_count": 5,
   "metadata": {
    "slideshow": {
     "slide_type": "skip"
    }
   },
   "outputs": [
    {
     "data": {
      "text/html": [
       "        <script type=\"text/javascript\">\n",
       "        window.PlotlyConfig = {MathJaxConfig: 'local'};\n",
       "        if (window.MathJax) {MathJax.Hub.Config({SVG: {font: \"STIX-Web\"}});}\n",
       "        if (typeof require !== 'undefined') {\n",
       "        require.undef(\"plotly\");\n",
       "        requirejs.config({\n",
       "            paths: {\n",
       "                'plotly': ['https://cdn.plot.ly/plotly-latest.min']\n",
       "            }\n",
       "        });\n",
       "        require(['plotly'], function(Plotly) {\n",
       "            window._Plotly = Plotly;\n",
       "        });\n",
       "        }\n",
       "        </script>\n",
       "        "
      ]
     },
     "metadata": {},
     "output_type": "display_data"
    }
   ],
   "source": [
    "py.offline.init_notebook_mode(connected=True)"
   ]
  },
  {
   "cell_type": "code",
   "execution_count": 6,
   "metadata": {
    "hideCode": false,
    "hidePrompt": false,
    "slideshow": {
     "slide_type": "slide"
    }
   },
   "outputs": [
    {
     "data": {
      "application/vnd.jupyter.widget-view+json": {
       "model_id": "f86a95e7ad7b40fa9bfa330027aeb701",
       "version_major": 2,
       "version_minor": 0
      },
      "text/plain": [
       "interactive(children=(SelectMultiple(description='Model', index=(0,), options=('LSTM_Aglo', 'LSTM_kmeans', 'FF…"
      ]
     },
     "metadata": {},
     "output_type": "display_data"
    }
   ],
   "source": [
    "layout_1 = go.Layout(\n",
    "    title = 'Cumulative Performance',\n",
    "    yaxis = dict(\n",
    "        title = 'Returns (%)'),\n",
    "\n",
    "    xaxis = dict(\n",
    "        title = 'May 2013 - December 2014')\n",
    ")\n",
    "\n",
    "def update_plot_1(signals_1):\n",
    "    \n",
    "    DATA = []\n",
    "    for s, i in enumerate(signals_1):\n",
    "        trace1 = go.Scatter(\n",
    "            x=performance[0].index,\n",
    "            y=np.round(performance[s]['NAV'].values*100,3),\n",
    "            mode = 'lines',\n",
    "            name = '{}'.format(i))\n",
    "        \n",
    "        DATA.append(trace1)\n",
    "    \n",
    "    trace2 = go.Scatter(\n",
    "        x = performance[0].index,\n",
    "        y = np.round(sp500['SPX'].values*100,3),\n",
    "        mode = 'lines',\n",
    "        name = 'S&P 500')\n",
    "    \n",
    "    DATA.append(trace2)\n",
    "    \n",
    "    \n",
    "    fig = go.Figure(data = DATA, layout=layout_1)\n",
    "    py.offline.iplot(fig)\n",
    "    \n",
    "signals_1 = widgets.SelectMultiple(options=['LSTM_Aglo','LSTM_kmeans','FF_Aglo','FF_Kmeans','CAPM_Aglo','CAPM_Kmeans'], value=('LSTM_Aglo',), description='Model')\n",
    "widgets.interactive(update_plot_1, signals_1=signals_1)"
   ]
  },
  {
   "cell_type": "code",
   "execution_count": 7,
   "metadata": {
    "slideshow": {
     "slide_type": "skip"
    }
   },
   "outputs": [],
   "source": [
    "AMP_LSTM_AGLO = pd.read_csv(r'AMP_LSTM_aglo.csv')\n",
    "AMP_LSTM_KMEANS = pd.read_csv(r'AMP_LSTM_kmeans.csv')\n",
    "AMP_FFF_AGLO = pd.read_csv(r'AMP_FFF_aglo.csv')\n",
    "AMP_FFF_KMEANS = pd.read_csv(r'AMP_FFF_kmeans.csv')\n",
    "AMP_CAPM_AGLO = pd.read_csv(r'AMP_CAPM_aglo.csv')\n",
    "AMP_CAPM_KMEANS = pd.read_csv(r'AMP_CAPM_aglo.csv')\n",
    "M_AMP = pd.read_csv(r'M_AMP.csv')"
   ]
  },
  {
   "cell_type": "code",
   "execution_count": 8,
   "metadata": {
    "slideshow": {
     "slide_type": "skip"
    }
   },
   "outputs": [],
   "source": [
    "AMP_LSTM_AGLO = pd.DataFrame(AMP_LSTM_AGLO.iloc[:,1:])\n",
    "AMP_LSTM_KMEANS = pd.DataFrame(AMP_LSTM_KMEANS.iloc[:,1:])\n",
    "AMP_FFF_AGLO = pd.DataFrame(AMP_FFF_AGLO.iloc[:,1:])\n",
    "AMP_FFF_KMEANS = pd.DataFrame(AMP_FFF_KMEANS.iloc[:,1:])\n",
    "AMP_CAPM_AGLO = pd.DataFrame(AMP_CAPM_AGLO.iloc[:,1:])\n",
    "AMP_CAPM_KMEANS = pd.DataFrame(AMP_CAPM_KMEANS.iloc[:,1:])\n",
    "M_AMP = pd.DataFrame(M_AMP.iloc[:,1:])"
   ]
  },
  {
   "cell_type": "code",
   "execution_count": 9,
   "metadata": {
    "slideshow": {
     "slide_type": "skip"
    }
   },
   "outputs": [],
   "source": [
    "average_monthly_return = [AMP_LSTM_AGLO,\n",
    "                         AMP_LSTM_KMEANS,\n",
    "                         AMP_FFF_AGLO,\n",
    "                         AMP_FFF_KMEANS,\n",
    "                         AMP_CAPM_AGLO,\n",
    "                         AMP_CAPM_KMEANS,\n",
    "                         M_AMP]"
   ]
  },
  {
   "cell_type": "code",
   "execution_count": 10,
   "metadata": {
    "hideCode": false,
    "hidePrompt": false,
    "slideshow": {
     "slide_type": "slide"
    }
   },
   "outputs": [
    {
     "data": {
      "application/vnd.jupyter.widget-view+json": {
       "model_id": "be35017d911a484a8a7981432d648a1a",
       "version_major": 2,
       "version_minor": 0
      },
      "text/plain": [
       "interactive(children=(SelectMultiple(description='Model', index=(0,), options=('LSTM_Aglo', 'LSTM_kmeans', 'FF…"
      ]
     },
     "metadata": {},
     "output_type": "display_data"
    }
   ],
   "source": [
    "layout_1 = go.Layout(\n",
    "    title = 'Average Monthly Performance',\n",
    "    yaxis = dict(\n",
    "        title = 'Returns (%)'),\n",
    "\n",
    "    xaxis = dict(\n",
    "        title = 'Month')\n",
    ")\n",
    "\n",
    "def update_plot_1(signals_1):\n",
    "    \n",
    "    DATA = []\n",
    "    for s, i in enumerate(signals_1):\n",
    "        trace1 = go.Scatter(\n",
    "            x=np.arange(1,21),\n",
    "            y=np.round(average_monthly_return[s]['0'].values*100,3),\n",
    "            mode = 'markers',\n",
    "            name = '{}'.format(i))\n",
    "        \n",
    "        DATA.append(trace1)\n",
    "        \n",
    "    \n",
    "    trace2 = go.Scatter(\n",
    "        x = np.arange(1,21),\n",
    "        y = np.round(average_monthly_return[-1]['0'].values*100,3),\n",
    "        mode = 'markers',\n",
    "        name = 'S&P 500')\n",
    "    \n",
    "    DATA.append(trace2)\n",
    "        \n",
    "    \n",
    "    fig = go.Figure(data = DATA, layout=layout_1)\n",
    "    py.offline.iplot(fig)\n",
    "    \n",
    "signals_1 = widgets.SelectMultiple(options=['LSTM_Aglo','LSTM_kmeans','FF_Aglo','FF_Kmeans','CAPM_Aglo','CAPM_Kmeans'], value=('LSTM_Aglo',), description='Model')\n",
    "widgets.interactive(update_plot_1, signals_1=signals_1)"
   ]
  },
  {
   "cell_type": "code",
   "execution_count": 11,
   "metadata": {
    "slideshow": {
     "slide_type": "skip"
    }
   },
   "outputs": [],
   "source": [
    "SM_LSTM_AGLO = pd.read_csv(r'SM_LSTM_aglo.csv')\n",
    "SM_LSTM_KMEANS = pd.read_csv(r'SM_LSTM_kmeans.csv')\n",
    "SM_FFF_AGLO = pd.read_csv(r'SM_FFF_aglo.csv')\n",
    "SM_FFF_KMEANS = pd.read_csv(r'SM_FFF_kmeans.csv')\n",
    "SM_CAPM_AGLO = pd.read_csv(r'SM_CAPM_aglo.csv')\n",
    "SM_CAPM_KMEANS = pd.read_csv(r'SM_CAPM_kmeans.csv')\n",
    "S_MM = pd.read_csv(r'S_MM.csv')"
   ]
  },
  {
   "cell_type": "code",
   "execution_count": 12,
   "metadata": {
    "slideshow": {
     "slide_type": "skip"
    }
   },
   "outputs": [],
   "source": [
    "SM_LSTM_AGLO = pd.DataFrame(SM_LSTM_AGLO.iloc[:,1:])\n",
    "SM_LSTM_KMEANS = pd.DataFrame(SM_LSTM_KMEANS.iloc[:,1:])\n",
    "SM_FFF_AGLO = pd.DataFrame(SM_FFF_AGLO.iloc[:,1:])\n",
    "SM_FFF_KMEANS = pd.DataFrame(SM_FFF_KMEANS.iloc[:,1:])\n",
    "SM_CAPM_AGLO = pd.DataFrame(SM_CAPM_AGLO.iloc[:,1:])\n",
    "SM_CAPM_KMEANS = pd.DataFrame(SM_CAPM_KMEANS.iloc[:,1:])\n",
    "S_MM = pd.DataFrame(S_MM.iloc[:,1:])"
   ]
  },
  {
   "cell_type": "code",
   "execution_count": 13,
   "metadata": {
    "slideshow": {
     "slide_type": "skip"
    }
   },
   "outputs": [],
   "source": [
    "sharpes = [SM_LSTM_AGLO,\n",
    "          SM_LSTM_KMEANS,\n",
    "          SM_FFF_AGLO,\n",
    "          SM_FFF_KMEANS,\n",
    "          SM_CAPM_AGLO,\n",
    "          SM_CAPM_KMEANS,\n",
    "          S_MM]"
   ]
  },
  {
   "cell_type": "code",
   "execution_count": 14,
   "metadata": {
    "hideCode": false,
    "hidePrompt": false,
    "slideshow": {
     "slide_type": "slide"
    }
   },
   "outputs": [
    {
     "data": {
      "application/vnd.jupyter.widget-view+json": {
       "model_id": "af59665584e943738c5ce1eef3894dd4",
       "version_major": 2,
       "version_minor": 0
      },
      "text/plain": [
       "interactive(children=(SelectMultiple(description='Model', index=(0,), options=('LSTM_Aglo', 'LSTM_kmeans', 'FF…"
      ]
     },
     "metadata": {},
     "output_type": "display_data"
    }
   ],
   "source": [
    "layout_1 = go.Layout(\n",
    "    title = 'Monthly Sharpe Ratios',\n",
    "    yaxis = dict(\n",
    "        title = 'Sharpe'),\n",
    "\n",
    "    xaxis = dict(\n",
    "        title = 'Month')\n",
    ")\n",
    "\n",
    "def update_plot_1(signals_1):\n",
    "    \n",
    "    DATA = []\n",
    "    for s, i in enumerate(signals_1):\n",
    "        trace1 = go.Scatter(\n",
    "            x=np.arange(1,21),\n",
    "            y=sharpes[s]['0'].values,\n",
    "            mode = 'markers',\n",
    "            name = '{}'.format(i))\n",
    "        \n",
    "        DATA.append(trace1)\n",
    "        \n",
    "    \n",
    "    trace2 = go.Scatter(\n",
    "        x = np.arange(1,21),\n",
    "        y = np.round(sharpes[-1]['0'].values,3),\n",
    "        mode = 'markers',\n",
    "        name = 'S&P 500')\n",
    "    \n",
    "    DATA.append(trace2)\n",
    "        \n",
    "    \n",
    "    fig = go.Figure(data = DATA, layout=layout_1)\n",
    "    py.offline.iplot(fig)\n",
    "    \n",
    "signals_1 = widgets.SelectMultiple(options=['LSTM_Aglo','LSTM_kmeans','FF_Aglo','FF_Kmeans','CAPM_Aglo','CAPM_Kmeans'], value=('LSTM_Aglo',), description='Model')\n",
    "widgets.interactive(update_plot_1, signals_1=signals_1)"
   ]
  }
 ],
 "metadata": {
  "celltoolbar": "Hide code",
  "kernelspec": {
   "display_name": "Python 3",
   "language": "python",
   "name": "python3"
  },
  "language_info": {
   "codemirror_mode": {
    "name": "ipython",
    "version": 3
   },
   "file_extension": ".py",
   "mimetype": "text/x-python",
   "name": "python",
   "nbconvert_exporter": "python",
   "pygments_lexer": "ipython3",
   "version": "3.7.4"
  }
 },
 "nbformat": 4,
 "nbformat_minor": 2
}
